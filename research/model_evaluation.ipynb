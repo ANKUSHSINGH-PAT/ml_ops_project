{
 "cells": [
  {
   "cell_type": "code",
   "execution_count": null,
   "id": "a96b299a",
   "metadata": {
    "vscode": {
     "languageId": "plaintext"
    }
   },
   "outputs": [],
   "source": [
    "import os\n",
    "os.environ[\"MLFLOW_TRACKING_URI\"]=\"https://dagshub.com/ANKUSHSINGH-PAT/ml_ops_project.mlflow\"\n",
    "os.environ[\"MLFLOW_TRACKING_USERNAME\"]=\"ANKUSHSINGH-PAT\"\n",
    "os.environ[\"MLFLOW_TRACKING_PASSWORD\"]=\"f81123b6c1143b7c172d3b55cf80e4ad123a347f\""
   ]
  },
  {
   "cell_type": "code",
   "execution_count": null,
   "id": "77852c33",
   "metadata": {
    "vscode": {
     "languageId": "plaintext"
    }
   },
   "outputs": [],
   "source": []
  }
 ],
 "metadata": {
  "language_info": {
   "name": "python"
  }
 },
 "nbformat": 4,
 "nbformat_minor": 5
}
